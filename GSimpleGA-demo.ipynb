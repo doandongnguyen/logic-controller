{
 "cells": [
  {
   "cell_type": "code",
   "execution_count": 1,
   "metadata": {
    "collapsed": false,
    "deletable": true,
    "editable": true
   },
   "outputs": [],
   "source": [
    "from pyevolve import G1DList\n",
    "from pyevolve import GSimpleGA\n",
    "from pyevolve import DBAdapters"
   ]
  },
  {
   "cell_type": "code",
   "execution_count": 2,
   "metadata": {
    "collapsed": false,
    "deletable": true,
    "editable": true,
    "scrolled": false
   },
   "outputs": [
    {
     "name": "stdout",
     "output_type": "stream",
     "text": [
      "Gen. 0 (0.00%): Max/Min/Avg Fitness(Raw) [1200000.14(1000001.00)/972727.39(1000000.00)/1000000.12(1000000.12)]\n",
      "Gen. 9 (100.00%): Max/Min/Avg Fitness(Raw) [1000005.00(1000005.00)/1000005.00(1000005.00)/1000005.00(1000005.00)]\n",
      "Total time elapsed: 0.266 seconds.\n",
      "- GenomeBase\n",
      "\tScore:\t\t\t 1000005.000000\n",
      "\tFitness:\t\t 1000005.000000\n",
      "\n",
      "\tParams:\t\t {'rangemax': 31, 'rangemin': 0}\n",
      "\n",
      "\tSlot [Evaluator] (Count: 1)\n",
      "\t\tName: eval_func - Weight: 0.50\n",
      "\tSlot [Initializator] (Count: 1)\n",
      "\t\tName: G1DListInitializatorInteger - Weight: 0.50\n",
      "\t\tDoc:  Integer initialization function of G1DList\n",
      "\n",
      "   This initializator accepts the *rangemin* and *rangemax* genome parameters.\n",
      "\n",
      "   \n",
      "\tSlot [Mutator] (Count: 1)\n",
      "\t\tName: G1DListMutatorSwap - Weight: 0.50\n",
      "\t\tDoc:  The mutator of G1DList, Swap Mutator\n",
      "   \n",
      "   .. note:: this mutator is :term:`Data Type Independent`\n",
      "\n",
      "   \n",
      "\tSlot [Crossover] (Count: 1)\n",
      "\t\tName: G1DListCrossoverSinglePoint - Weight: 0.50\n",
      "\t\tDoc:  The crossover of G1DList, Single Point\n",
      "\n",
      "   .. warning:: You can't use this crossover method for lists with just one element.\n",
      "\n",
      "   \n",
      "\n",
      "- G1DList\n",
      "\tList size:\t 5\n",
      "\tList:\t\t [0, 0, 0, 0, 0]\n",
      "\n",
      "\n"
     ]
    }
   ],
   "source": [
    "from pyevolve import G1DList\n",
    "\n",
    "from pyevolve import GSimpleGA\n",
    "\n",
    "from pyevolve import DBAdapters\n",
    "\n",
    "\n",
    "# This function is the evaluation function, we want\n",
    "\n",
    "# to give high score to more zero'ed chromosomes\n",
    "ink = 0\n",
    "def eval_func(chromosome):\n",
    "\n",
    "    global ink\n",
    "\n",
    "    score = 0.0\n",
    "\n",
    "#     print \"@#$%^\", ink\n",
    "\n",
    "    ink += 1\n",
    "    \n",
    "\n",
    "    # iterate over the chromosome elements (items)\n",
    "\n",
    "    A = []\n",
    "\n",
    "    for value in chromosome:\n",
    "\n",
    "        A.append(value)\n",
    "\n",
    "        if value==0:\n",
    "\n",
    "            score += 1.0\n",
    "\n",
    "#     print \"A: \", A\n",
    "\n",
    "    return score+1000000\n",
    "\n",
    "# Genome instance\n",
    "\n",
    "genome = G1DList.G1DList(5)\n",
    "\n",
    "\n",
    "genome.setParams(rangemin=0, rangemax=31)\n",
    "\n",
    "\n",
    "# The evaluator function (objective function)\n",
    "\n",
    "genome.evaluator.set(eval_func)\n",
    "\n",
    "\n",
    "ga = GSimpleGA.GSimpleGA(genome)\n",
    "\n",
    "ga.setDBAdapter( DBAdapters.DBSQLite( identify=\"ex1\" ) )\n",
    "\n",
    "ga.setGenerations(9)\n",
    "\n",
    "ga.setPopulationSize(50)\n",
    "\n",
    "# Do the evolution, with stats dump\n",
    "\n",
    "# frequency of 10 generations\n",
    "\n",
    "ga.evolve(freq_stats=10)\n",
    "\n",
    "\n",
    "# Best individual\n",
    "print ga.bestIndividual()"
   ]
  },
  {
   "cell_type": "code",
   "execution_count": 3,
   "metadata": {
    "collapsed": false,
    "deletable": true,
    "editable": true
   },
   "outputs": [
    {
     "name": "stdout",
     "output_type": "stream",
     "text": [
      "['/usr/local/lib/python2.7/dist-packages/ipykernel/__main__.py', '-f', '/root/.local/share/jupyter/runtime/kernel-675e045b-31f5-49fd-993e-5bf6e18aae19.json']\n"
     ]
    }
   ],
   "source": [
    "import sys\n",
    "print sys.argv"
   ]
  },
  {
   "cell_type": "code",
   "execution_count": 4,
   "metadata": {
    "collapsed": false,
    "deletable": true,
    "editable": true
   },
   "outputs": [],
   "source": [
    "sys.argv = 'pyevolve_graph.py,-i,ex1,-1,-o,graph_ex2'.split(',')"
   ]
  },
  {
   "cell_type": "code",
   "execution_count": 5,
   "metadata": {
    "collapsed": false,
    "deletable": true,
    "editable": true
   },
   "outputs": [
    {
     "name": "stdout",
     "output_type": "stream",
     "text": [
      "Pyevolve 0.6rc1 - Graph Plot Tool\n",
      "By Christian S. Perone\n",
      "\n",
      "Loading modules....\n",
      "Loading database and creating graph...\n",
      "9 generations found !\n",
      "Graph saved to graph_ex2.png file !\n"
     ]
    }
   ],
   "source": [
    "execfile('pyevolve_graph.py')"
   ]
  },
  {
   "cell_type": "code",
   "execution_count": null,
   "metadata": {
    "collapsed": true,
    "deletable": true,
    "editable": true
   },
   "outputs": [],
   "source": []
  }
 ],
 "metadata": {
  "kernelspec": {
   "display_name": "Python 2",
   "language": "python",
   "name": "python2"
  },
  "language_info": {
   "codemirror_mode": {
    "name": "ipython",
    "version": 2
   },
   "file_extension": ".py",
   "mimetype": "text/x-python",
   "name": "python",
   "nbconvert_exporter": "python",
   "pygments_lexer": "ipython2",
   "version": "2.7.13"
  }
 },
 "nbformat": 4,
 "nbformat_minor": 2
}
