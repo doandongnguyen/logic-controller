{
 "cells": [
  {
   "cell_type": "code",
   "execution_count": 1,
   "metadata": {
    "collapsed": true,
    "deletable": true,
    "editable": true
   },
   "outputs": [],
   "source": [
    "import numpy as np"
   ]
  },
  {
   "cell_type": "code",
   "execution_count": 228,
   "metadata": {
    "collapsed": true,
    "deletable": true,
    "editable": true
   },
   "outputs": [],
   "source": [
    "logic_q = np.load(\"logic_q-1.02-4-adjust-8.npy\")"
   ]
  },
  {
   "cell_type": "code",
   "execution_count": null,
   "metadata": {
    "collapsed": true,
    "deletable": true,
    "editable": true
   },
   "outputs": [],
   "source": []
  },
  {
   "cell_type": "markdown",
   "metadata": {
    "deletable": true,
    "editable": true
   },
   "source": [
    "    "
   ]
  },
  {
   "cell_type": "code",
   "execution_count": 403,
   "metadata": {
    "collapsed": true,
    "deletable": true,
    "editable": true
   },
   "outputs": [],
   "source": [
    "np.save( 'logic_q-1.02-4-adjust-10', logic_q )"
   ]
  },
  {
   "cell_type": "code",
   "execution_count": null,
   "metadata": {
    "collapsed": true,
    "deletable": true,
    "editable": true
   },
   "outputs": [],
   "source": [
    "4, 5, 5, 1, 1, 5, 5, 1\n",
    "4, 5, 5, 1, 0, 5, 5, 1\n",
    "4, 5, 5, 1, 5, 0, 5, 1"
   ]
  },
  {
   "cell_type": "code",
   "execution_count": 409,
   "metadata": {
    "collapsed": false,
    "deletable": true,
    "editable": true
   },
   "outputs": [
    {
     "data": {
      "image/png": "[encoded data removed]",
      "text/plain": [
       "<matplotlib.figure.Figure at 0x7f6f180c8cd0>"
      ]
     },
     "metadata": {},
     "output_type": "display_data"
    }
   ],
   "source": [
    "s=[4, 5, 5, 1, 5, 2, 5, 1]\n",
    "\n",
    "t_x, t_y, o_x, o_y = logic2xy( s )\n",
    "\n",
    "fig = plt.figure()\n",
    "ax = fig.add_subplot(111)\n",
    "\n",
    "ax.scatter( t_x, t_y, color='green', marker='+')#plot points\n",
    "ax.scatter( o_x, o_y, color='red', marker='x')#plot points\n",
    "\n",
    "ax.scatter( 0, 0, color='black', marker='.')#plot points\n",
    "\n",
    "ax.plot( [t_x, o_x], [t_y, o_y], color='black', linewidth=0.1)#plot lines\n",
    "\n",
    "ax.set_xlim(-6, 6)\n",
    "ax.set_ylim(-6, 6)\n",
    "plt.grid(True)\n",
    "plt.show()\n",
    "\n",
    "reward_keep=[0]"
   ]
  },
  {
   "cell_type": "code",
   "execution_count": 407,
   "metadata": {
    "collapsed": false,
    "deletable": true,
    "editable": true
   },
   "outputs": [
    {
     "data": {
      "text/plain": [
       "array([ 0.,  0.,  0.,  0.,  0.])"
      ]
     },
     "execution_count": 407,
     "metadata": {},
     "output_type": "execute_result"
    }
   ],
   "source": [
    "logic_q[   s[0], s[1], s[2], s[3], s[4], s[5], s[6],  s[7]   ,:]"
   ]
  },
  {
   "cell_type": "code",
   "execution_count": 408,
   "metadata": {
    "collapsed": true,
    "deletable": true,
    "editable": true
   },
   "outputs": [],
   "source": [
    "logic_action_2( s , 0)"
   ]
  },
  {
   "cell_type": "code",
   "execution_count": null,
   "metadata": {
    "collapsed": true,
    "deletable": true,
    "editable": true
   },
   "outputs": [],
   "source": []
  },
  {
   "cell_type": "code",
   "execution_count": 179,
   "metadata": {
    "collapsed": true,
    "deletable": true,
    "editable": true
   },
   "outputs": [],
   "source": [
    "def logic2xy( s ):\n",
    "    s=np.array(s)+0.01\n",
    "\n",
    "    if s[0]<5:\n",
    "        t_y = s[0]\n",
    "    if s[1]<5:\n",
    "        t_y = -s[1]\n",
    "    if s[2]<5:\n",
    "        t_x = s[2]\n",
    "    if s[3]<5:\n",
    "        t_x = -s[3]        \n",
    "\n",
    "    if s[4]<5:\n",
    "        o_y = s[4]\n",
    "    if s[5]<5:\n",
    "        o_y = -s[5]\n",
    "    if s[6]<5:\n",
    "        o_x = s[6]\n",
    "    if s[7]<5:\n",
    "        o_x = -s[7] \n",
    "\n",
    "    return t_x, t_y, o_x, o_y\n",
    "\n",
    "def xy2xy_mirror( t_x, t_y, o_x, o_y ):\n",
    "    a = [t_x, t_y, o_x, o_y]\n",
    "    t_x=a[1]\n",
    "    t_y=a[0]\n",
    "    o_x=a[3]\n",
    "    o_y=a[2]\n",
    "    return t_x, t_y, o_x, o_y\n",
    "\n",
    "def xy2xy_rotate( t_x, t_y, o_x, o_y ): # anti clockwise\n",
    "    a = [t_x, t_y, o_x, o_y]\n",
    "    t_x = -a[1]\n",
    "    t_y=a[0]\n",
    "    o_x = -a[3]\n",
    "    o_y=a[2]\n",
    "\n",
    "    return t_x, t_y, o_x, o_y\n",
    "\n",
    "def xy2logic( t_x, t_y, o_x, o_y ):\n",
    "    s=[5,5,5,5,   5,5,5,5]\n",
    "    if t_y>0:\n",
    "        s[0]=int(around(t_y-0.01))\n",
    "    if t_y<0:\n",
    "        s[1]=int(around(-t_y-0.01))\n",
    "    if t_x>0:\n",
    "        s[2]=int(around(t_x-0.01))\n",
    "    if t_x<0:\n",
    "        s[3]=int(around(-t_x-0.01))\n",
    "\n",
    "    if o_y>0:\n",
    "        s[4]=int(around(o_y-0.01))\n",
    "    if o_y<0:\n",
    "        s[5]=int(around(-o_y-0.01))\n",
    "    if o_x>0:\n",
    "        s[6]=int(around(o_x-0.01))\n",
    "    if o_x<0:\n",
    "        s[7]=int(around(-o_x-0.01))\n",
    "\n",
    "    return s\n",
    "\n",
    "\n",
    "    # [0, 5, 3, 5, 5, 0, 1, 5]\n",
    "\n",
    "def logic_action_2( s, act ):\n",
    "    e = s\n",
    "    action = act\n",
    "\n",
    "    logic_q[ e[0], e[1], e[2], e[3], e[4], e[5], e[6],  e[7],    action+1 ] = 1001.\n",
    "\n",
    "    a,b,c,d=logic2xy(s)\n",
    "    # rotate 1\n",
    "    print a,b,c,d\n",
    "    a,b,c,d = xy2xy_rotate( a,b,c,d )\n",
    "    print a,b,c,d\n",
    "    e = xy2logic(a,b,c,d)\n",
    "\n",
    "    if action == 0:\n",
    "        action = 3\n",
    "    elif action == 3:\n",
    "        action = 1\n",
    "    elif action == 1:\n",
    "        action = 2\n",
    "    elif action == 2:\n",
    "        action = 0\n",
    "    print \"e: \", e\n",
    "    logic_q[ e[0], e[1], e[2], e[3], e[4], e[5], e[6],  e[7],    action+1 ] = 1001.\n",
    "    # rotate 2\n",
    "    a,b,c,d = xy2xy_rotate( a,b,c,d )\n",
    "    e = xy2logic(a,b,c,d)\n",
    "\n",
    "    if action == 0:\n",
    "        action = 3\n",
    "    elif action == 3:\n",
    "        action = 1\n",
    "    elif action == 1:\n",
    "        action = 2\n",
    "    elif action == 2:\n",
    "        action = 0\n",
    "    logic_q[ e[0], e[1], e[2], e[3], e[4], e[5], e[6],  e[7],    action+1 ] = 1001.\n",
    "    # rotate 3\n",
    "    a,b,c,d = xy2xy_rotate( a,b,c,d )\n",
    "    e = xy2logic(a,b,c,d)\n",
    "\n",
    "    if action == 0:\n",
    "        action = 3\n",
    "    elif action == 3:\n",
    "        action = 1\n",
    "    elif action == 1:\n",
    "        action = 2\n",
    "    elif action == 2:\n",
    "        action = 0\n",
    "    logic_q[ e[0], e[1], e[2], e[3], e[4], e[5], e[6],  e[7],    action+1 ] = 1001.\n",
    "\n",
    "    # Mirror\n",
    "    action = act\n",
    "\n",
    "    a,b,c,d=logic2xy(s)\n",
    "\n",
    "\n",
    "\n",
    "\n",
    "    a,b,c,d = xy2xy_mirror( a,b,c,d )\n",
    "    e = xy2logic(a,b,c,d)\n",
    "\n",
    "    if action == 0:\n",
    "        action = 2\n",
    "    elif action == 3:\n",
    "        action = 1\n",
    "    elif action == 1:\n",
    "        action = 3\n",
    "    elif action == 2:\n",
    "        action = 0\n",
    "    logic_q[ e[0], e[1], e[2], e[3], e[4], e[5], e[6],  e[7],    action+1 ] = 1001.\n",
    "\n",
    "\n",
    "\n",
    "\n",
    "\n",
    "    # rotate 1\n",
    "    a,b,c,d = xy2xy_rotate( a,b,c,d )\n",
    "    e = xy2logic(a,b,c,d)\n",
    "\n",
    "    if action == 0:\n",
    "        action = 3\n",
    "    elif action == 3:\n",
    "        action = 1\n",
    "    elif action == 1:\n",
    "        action = 2\n",
    "    elif action == 2:\n",
    "        action = 0\n",
    "    logic_q[ e[0], e[1], e[2], e[3], e[4], e[5], e[6],  e[7],    action+1 ] = 1001.\n",
    "    # rotate 2\n",
    "    a,b,c,d = xy2xy_rotate( a,b,c,d )\n",
    "    e = xy2logic(a,b,c,d)\n",
    "\n",
    "    if action == 0:\n",
    "        action = 3\n",
    "    elif action == 3:\n",
    "        action = 1\n",
    "    elif action == 1:\n",
    "        action = 2\n",
    "    elif action == 2:\n",
    "        action = 0\n",
    "    logic_q[ e[0], e[1], e[2], e[3], e[4], e[5], e[6],  e[7],    action+1 ] = 1001.\n",
    "    # rotate 3\n",
    "    a,b,c,d = xy2xy_rotate( a,b,c,d )\n",
    "    e = xy2logic(a,b,c,d)\n",
    "\n",
    "    if action == 0:\n",
    "        action = 3\n",
    "    elif action == 3:\n",
    "        action = 1\n",
    "    elif action == 1:\n",
    "        action = 2\n",
    "    elif action == 2:\n",
    "        action = 0\n",
    "    logic_q[ e[0], e[1], e[2], e[3], e[4], e[5], e[6],  e[7],    action+1 ] = 1001.   "
   ]
  }
 ],
 "metadata": {
  "kernelspec": {
   "display_name": "Python 2",
   "language": "python",
   "name": "python2"
  },
  "language_info": {
   "codemirror_mode": {
    "name": "ipython",
    "version": 2
   },
   "file_extension": ".py",
   "mimetype": "text/x-python",
   "name": "python",
   "nbconvert_exporter": "python",
   "pygments_lexer": "ipython2",
   "version": "2.7.13"
  }
 },
 "nbformat": 4,
 "nbformat_minor": 2
}
