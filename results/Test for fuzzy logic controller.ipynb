{
 "cells": [
  {
   "cell_type": "markdown",
   "metadata": {},
   "source": [
    "### 1. The environment used for expriemnts:\n",
    "A navigation task: here the agent should reach the target without colliding with the obstacle within limited steps."
   ]
  },
  {
   "cell_type": "code",
   "execution_count": 1,
   "metadata": {
    "collapsed": true,
    "deletable": true,
    "editable": true
   },
   "outputs": [],
   "source": [
    "import numpy as np\n",
    "from scipy.linalg import expm\n",
    "import random\n",
    "\n",
    "class move_gym():\n",
    "    def __init__(self):\n",
    "        self.scope = 2.0\n",
    "        self.states = 6\n",
    "        self.actions = 4\n",
    "    def reset(self, s=[]):\n",
    "        if np.array( s ).shape[0] == 0:\n",
    "            self.obstacle_x = np.random.randint( int(-self.scope*10), int(self.scope*10) )*0.1\n",
    "            self.obstacle_y = np.random.randint( int(-self.scope*10), int(self.scope*10) )*0.1\n",
    "\n",
    "            self.move_x = np.random.randint( int(-self.scope*10), int(self.scope*10) )*0.1\n",
    "            self.move_y = np.random.randint( int(-self.scope*10), int(self.scope*10) )*0.1  \n",
    "            while ( abs(self.obstacle_x-self.move_x) < 1.05 ) & ( abs(self.obstacle_y-self.move_y) < 1.05 ):\n",
    "                self.move_x = np.random.randint( int(-self.scope*10), int(self.scope*10) )*0.1\n",
    "                self.move_y = np.random.randint( int(-self.scope*10), int(self.scope*10) )*0.1      \n",
    "\n",
    "            self.target_x = np.random.randint( int(-self.scope*10), int(self.scope*10) )*0.1\n",
    "            self.target_y = np.random.randint( int(-self.scope*10), int(self.scope*10) )*0.1\n",
    "            while (  ( abs(self.obstacle_x-self.target_x) < 1.05 ) & ( abs(self.obstacle_y-self.target_y) < 1.05 )  ) |\\\n",
    "             (  ( abs(self.move_x-self.target_x) < 1.05 ) & ( abs(self.move_y-self.target_y) < 1.05 )  ):\n",
    "                self.target_x = np.random.randint( int(-self.scope*10), int(self.scope*10) )*0.1\n",
    "                self.target_y = np.random.randint( int(-self.scope*10), int(self.scope*10) )*0.1        \n",
    "        else:\n",
    "            self.obstacle_x=s[0]\n",
    "            self.obstacle_y=s[1]\n",
    "            self.target_x=s[2]\n",
    "            self.target_y=s[3]\n",
    "            self.move_x=s[4]\n",
    "            self.move_y=s[5]\n",
    "\n",
    "        state=np.array([ self.obstacle_x, self.obstacle_y, self.target_x, self.target_y, self.move_x, self.move_y ])\n",
    "        return state #, self.state2img(state)\n",
    "    def step(self, action):\n",
    "        velocity = 0.2\n",
    "        if action==0: # up down right left\n",
    "            self.move_y+=velocity\n",
    "        if action==1:\n",
    "            self.move_y-=velocity\n",
    "        if action==2:\n",
    "            self.move_x+=velocity\n",
    "        if action==3:\n",
    "            self.move_x-=velocity\n",
    "\n",
    "#         if self.move_x > (self.scope+1.0):\n",
    "#             self.move_x-=velocity\n",
    "#         if self.move_x < (-self.scope-1.0):\n",
    "#             self.move_x+=velocity\n",
    "#         if self.move_y > (self.scope+1.0):\n",
    "#             self.move_y-=velocity\n",
    "#         if self.move_y < (-self.scope-1.0):\n",
    "#             self.move_y+=velocity\n",
    "        \n",
    "        reward = -0.1\n",
    "        done = False\n",
    "        info = \"^_^\"\n",
    "        if (  ( abs(self.obstacle_x-self.move_x) < 1.05 ) & ( abs(self.obstacle_y-self.move_y) < 1.05 )  ): \n",
    "            reward = -1.0 \n",
    "            done = True\n",
    "            info = \"collision\"\n",
    "\n",
    "        elif (  ( abs(self.target_x-self.move_x) < 1.05 ) & ( abs(self.target_y-self.move_y) < 1.05 )  ):\n",
    "            reward = 1.0\n",
    "            done = True\n",
    "            info = \"reach\"\n",
    "\n",
    "        state=np.array([ self.obstacle_x, self.obstacle_y, self.target_x, self.target_y, self.move_x, self.move_y ])\n",
    "\n",
    "        return state, reward,done,info\n",
    "    def state2img(self, state):\n",
    "        img = np.zeros([84,84,3], dtype=np.uint8)\n",
    "        ( img[ int(42-(self.obstacle_y+0.5)*10):int(42-(self.obstacle_y-0.5)*10), int((self.obstacle_x-0.5)*10+42):int((self.obstacle_x+0.5)*10+42),2 ] ).fill(255)\n",
    "        ( img[ int(42-(self.target_y+0.5)*10):int(42-(self.target_y-0.5)*10), int((self.target_x-0.5)*10+42):int((self.target_x+0.5)*10+42),1 ] ).fill(255)\n",
    "        ( img[ int(42-(self.move_y+0.5)*10):int(42-(self.move_y-0.5)*10), int((self.move_x-0.5)*10+42):int((self.move_x+0.5)*10+42),0 ] ).fill(255)\n",
    "        return img"
   ]
  },
  {
   "cell_type": "code",
   "execution_count": 2,
   "metadata": {
    "collapsed": false,
    "deletable": true,
    "editable": true
   },
   "outputs": [],
   "source": [
    "env = move_gym() # initialize env\n",
    "STEP = 50 # Step limitation in an episode"
   ]
  },
  {
   "cell_type": "code",
   "execution_count": 3,
   "metadata": {
    "collapsed": true,
    "deletable": true,
    "editable": true
   },
   "outputs": [],
   "source": [
    "import numpy as np\n",
    "\n",
    "%matplotlib inline\n",
    "import matplotlib.pyplot as plt\n",
    "import matplotlib.patches as patches"
   ]
  },
  {
   "cell_type": "code",
   "execution_count": 4,
   "metadata": {
    "collapsed": false,
    "deletable": true,
    "editable": true
   },
   "outputs": [],
   "source": [
    "logic_q = np.load( '../logic_q-1.02-4-adjust-10.npy' )\n",
    "discrete = np.array( [0., 1.02, 1.86, 2.93, 4.1, 95.03] )"
   ]
  },
  {
   "cell_type": "code",
   "execution_count": 5,
   "metadata": {
    "collapsed": false,
    "deletable": true,
    "editable": true
   },
   "outputs": [],
   "source": [
    "def discrete_it(state, discrete):\n",
    "    \n",
    "    dis_s = []\n",
    "    for i in xrange( len(state) ):\n",
    "        num = state[i]\n",
    "        over = num - discrete\n",
    "        for j in xrange( len(over) ):\n",
    "            if over[j]<0:\n",
    "                over[j] = 100 # a certain big number\n",
    "        dis_s.append( np.argmin( over ) )\n",
    "    return dis_s"
   ]
  },
  {
   "cell_type": "code",
   "execution_count": 6,
   "metadata": {
    "collapsed": false,
    "deletable": true,
    "editable": true
   },
   "outputs": [],
   "source": [
    "def state2relative(state):\n",
    "    obstacle = np.array( state[0] )\n",
    "    target = np.array( state[1] )\n",
    "    agent = np.array( state[2][0] )\n",
    "#     print agent\n",
    "    \n",
    "    top_t = 100.0\n",
    "    bottom_t = 100.0\n",
    "    right_t = 100.0\n",
    "    left_t = 100.0\n",
    "\n",
    "    top_o = 100.0\n",
    "    bottom_o = 100.0\n",
    "    right_o = 100.0\n",
    "    left_o = 100.0        \n",
    "#     print obstacle\n",
    "#     print obstacle[:,1]\n",
    "#     print abs(obstacle[:,1]-agent[1])\n",
    "    obstacle_x=obstacle[np.argmin( abs(obstacle[:,0]-agent[0]) ),0]\n",
    "    obstacle_y=obstacle[np.argmin( abs(obstacle[:,1]-agent[1]) ),1]\n",
    "    target_x=target[np.argmin( abs(target[:,0]-agent[0]) ),0]\n",
    "    target_y=target[np.argmin( abs(target[:,1]-agent[1]) ),1]\n",
    "    move_x=agent[0]\n",
    "    move_y=agent[1]\n",
    "\n",
    "    if target_y >= move_y:\n",
    "        top_t = target_y - move_y\n",
    "    if target_y < move_y:\n",
    "        bottom_t = move_y - target_y\n",
    "    if target_x >= move_x:\n",
    "        right_t = target_x - move_x\n",
    "    if target_x < move_x:\n",
    "        left_t = move_x - target_x\n",
    "\n",
    "    if obstacle_y >= move_y:\n",
    "        top_o = obstacle_y - move_y\n",
    "    if obstacle_y < move_y:\n",
    "        bottom_o = move_y - obstacle_y\n",
    "    if obstacle_x >= move_x:\n",
    "        right_o = obstacle_x - move_x\n",
    "    if obstacle_x < move_x:\n",
    "        left_o = move_x - obstacle_x\n",
    "\n",
    "    return np.array([ top_t, bottom_t, right_t, left_t, top_o, bottom_o, right_o, left_o ])"
   ]
  },
  {
   "cell_type": "markdown",
   "metadata": {},
   "source": [
    "### 2. Here is the test for fuzzy logic controller\n",
    "explanation for the output:  \n",
    "- -- 3 ->:\n",
    "```\n",
    "the action is 3, and it represents 'move left'. (up: 0, down: 1, right: 2, left: 3)\n",
    "```\n",
    "- info:  reach:\n",
    "```\n",
    "'reach' means the agent has reached the target within limited steps.\n",
    "```"
   ]
  },
  {
   "cell_type": "code",
   "execution_count": 7,
   "metadata": {
    "collapsed": false,
    "deletable": true,
    "editable": true
   },
   "outputs": [
    {
     "name": "stdout",
     "output_type": "stream",
     "text": [
      "[-0.30000000000000004, 1.5, -0.2, -0.1, -1.8, -0.30000000000000004] [0, 5, 1, 5, 1, 5, 1, 5]\n",
      "-- 2 -> [-0.30000000000000004, 1.5, -0.2, -0.1, -1.6, -0.30000000000000004] [0, 5, 1, 5, 1, 5, 1, 5]\n",
      "-- 2 -> [-0.30000000000000004, 1.5, -0.2, -0.1, -1.4000000000000001, -0.30000000000000004] [0, 5, 1, 5, 1, 5, 1, 5]\n",
      "-- 2 -> [-0.30000000000000004, 1.5, -0.2, -0.1, -1.2000000000000002, -0.30000000000000004] info:  reach\n"
     ]
    }
   ],
   "source": [
    "\n",
    "state = env.reset(  )\n",
    "obstacle_02=[state[0:2]]\n",
    "A = [state]\n",
    "old_action = 1.5\n",
    "print state.tolist(),\n",
    "for j in xrange(STEP):\n",
    "    relative_state=state2relative( [ obstacle_02, [state[2:4]], [state[4:]] ] )\n",
    "    # discrete it:\n",
    "    relative_state = discrete_it( relative_state, discrete )\n",
    "    print relative_state\n",
    "    action = np.argmax( logic_q[relative_state[0]][relative_state[1]][relative_state[2]][relative_state[3]]\\\n",
    "    [relative_state[4]][relative_state[5]][relative_state[6]][relative_state[7]] )-1\n",
    "    \n",
    "    if (((relative_state[0]+relative_state[4])==0) | ((relative_state[1]+relative_state[5])==0)) & (action<1.2) & (old_action<1.2):\n",
    "    #             print \"^^^\"\n",
    "        action = old_action\n",
    "    if (((relative_state[2]+relative_state[6])==0) | ((relative_state[3]+relative_state[7])==0)) & (action>1.8) & (old_action>1.8):\n",
    "    #             print \"%%%\"\n",
    "        action = old_action\n",
    "\n",
    "    old_action = action\n",
    "    \n",
    "    state, reward,done,info = env.step(action)\n",
    "    A.append(state)\n",
    "    print '--', action, '->', state.tolist(),\n",
    "    if done:\n",
    "        print \"info: \", info\n",
    "        break"
   ]
  },
  {
   "cell_type": "markdown",
   "metadata": {},
   "source": [
    "### 3. Here we plot the move path of the agent:\n",
    "- blue block: agent\n",
    "- red block: obstacle\n",
    "- green block: target\n",
    "- white line: move path"
   ]
  },
  {
   "cell_type": "code",
   "execution_count": 8,
   "metadata": {
    "collapsed": false,
    "deletable": true,
    "editable": true,
    "scrolled": false
   },
   "outputs": [
    {
     "data": {
      "image/png": "[encoded data removed]",
      "text/plain": [
       "<matplotlib.figure.Figure at 0x7f2cec30ce90>"
      ]
     },
     "metadata": {},
     "output_type": "display_data"
    }
   ],
   "source": [
    "if True:\n",
    "    i=0\n",
    "    fig = plt.figure( figsize=(6,6) )\n",
    "    ax = fig.add_subplot(111)\n",
    "\n",
    "    ax.add_patch(\n",
    "        patches.Rectangle(\n",
    "            (-3, -3),\n",
    "            6,\n",
    "            6,\n",
    "            color=\"grey\"\n",
    "        )\n",
    "    )\n",
    "    ax.add_patch(\n",
    "        patches.Rectangle(\n",
    "            (-2, -2),\n",
    "            4,\n",
    "            4,\n",
    "            color=\"black\"\n",
    "        )\n",
    "    )\n",
    "\n",
    "    s=np.array( A[i] )\n",
    "    \n",
    "    for i in range( len(obstacle_02) ):\n",
    "        ax.add_patch(\n",
    "            patches.Rectangle(\n",
    "                (A[0][0]-0.5, A[0][1]-0.5),\n",
    "                1,\n",
    "                1,\n",
    "                color=\"red\",\n",
    "                hatch=\"x\"\n",
    "            )\n",
    "        )\n",
    "    \n",
    "#     ax.add_patch(\n",
    "#         patches.Rectangle(\n",
    "#             (s[0]-0.5, s[1]-0.5),\n",
    "#             1,\n",
    "#             1,\n",
    "#             color=\"red\",\n",
    "#             hatch=\"x\"\n",
    "#         )\n",
    "#     )\n",
    "\n",
    "    ax.add_patch(\n",
    "        patches.Rectangle(\n",
    "            (A[0][2]-0.5, A[0][3]-0.5),\n",
    "            1,\n",
    "            1,\n",
    "            color=\"green\",\n",
    "            hatch=\"+\"\n",
    "        )\n",
    "    )\n",
    "\n",
    "    ax.add_patch(\n",
    "        patches.Rectangle(\n",
    "            (A[0][4]-0.5, A[0][5]-0.5),\n",
    "            1,\n",
    "            1,\n",
    "            color=\"blue\",\n",
    "            hatch=\".\"\n",
    "        )\n",
    "    )\n",
    "    ax.set_xlim(-4, 4)\n",
    "    ax.set_ylim(-4, 4)\n",
    "#     plt.grid(True)\n",
    "    \n",
    "    for i in xrange( len(A)-1 ):\n",
    "        ax.plot( [A[i][4], A[i+1][4]], [A[i][5], A[i+1][5]], color=\"white\", linewidth=2)#plot lines\n",
    "    \n",
    "    plt.show()\n",
    "\n",
    "    reward_keep=[0]"
   ]
  },
  {
   "cell_type": "markdown",
   "metadata": {},
   "source": [
    "### 4. Next, the success rate of the fuzzy logic controller\n",
    "You might care about the success rate of this fuzzy logic controller. Here we will show it with 100 thousand tests.  \n",
    "The agent should reach the target in all tests."
   ]
  },
  {
   "cell_type": "code",
   "execution_count": 9,
   "metadata": {
    "collapsed": true
   },
   "outputs": [],
   "source": [
    "from tqdm import trange"
   ]
  },
  {
   "cell_type": "code",
   "execution_count": 10,
   "metadata": {
    "collapsed": false
   },
   "outputs": [
    {
     "name": "stderr",
     "output_type": "stream",
     "text": [
      "100%|██████████| 1000000/1000000 [08:11<00:00, 2035.27it/s]"
     ]
    },
    {
     "name": "stdout",
     "output_type": "stream",
     "text": [
      "number of 'just wasting steps':  0 number of collision:  0\n"
     ]
    },
    {
     "name": "stderr",
     "output_type": "stream",
     "text": [
      "\n"
     ]
    }
   ],
   "source": [
    "B = []\n",
    "B1 = []\n",
    "for i in trange( 1000000 ):\n",
    "    state = env.reset(  )\n",
    "    obstacle_02=[state[0:2]]\n",
    "    A = state\n",
    "    old_action = 1.5\n",
    "    for j in xrange(STEP):\n",
    "\n",
    "        relative_state = state2relative( [ obstacle_02, [state[2:4]], [state[4:]] ] )\n",
    "        # discrete it:\n",
    "        relative_state = discrete_it( relative_state, discrete )\n",
    "\n",
    "        action = np.argmax( logic_q[relative_state[0]][relative_state[1]][relative_state[2]][relative_state[3]]\\\n",
    "        [relative_state[4]][relative_state[5]][relative_state[6]][relative_state[7]] ) - 1\n",
    "        \n",
    "        \n",
    "        if (((relative_state[0]+relative_state[4])==0) | ((relative_state[1]+relative_state[5])==0)) & (action<1.2) & (old_action<1.2):\n",
    "#             print \"^^^\"\n",
    "            action = old_action\n",
    "        if (((relative_state[2]+relative_state[6])==0) | ((relative_state[3]+relative_state[7])==0)) & (action>1.8) & (old_action>1.8):\n",
    "#             print \"%%%\"\n",
    "            action = old_action\n",
    "        \n",
    "        old_action = action\n",
    "        state, reward,done,info = env.step(action)\n",
    "        if done:\n",
    "            if info==\"collision\":\n",
    "                B1.append(A)\n",
    "            break\n",
    "    if done == 0:\n",
    "        B.append(A)\n",
    "\n",
    "print \"number of 'just wasting steps': \", len(B), \"number of collision: \", len(B1)"
   ]
  },
  {
   "cell_type": "code",
   "execution_count": null,
   "metadata": {
    "collapsed": true
   },
   "outputs": [],
   "source": []
  }
 ],
 "metadata": {
  "kernelspec": {
   "display_name": "Python 2",
   "language": "python",
   "name": "python2"
  },
  "language_info": {
   "codemirror_mode": {
    "name": "ipython",
    "version": 2
   },
   "file_extension": ".py",
   "mimetype": "text/x-python",
   "name": "python",
   "nbconvert_exporter": "python",
   "pygments_lexer": "ipython2",
   "version": "2.7.13"
  }
 },
 "nbformat": 4,
 "nbformat_minor": 2
}
